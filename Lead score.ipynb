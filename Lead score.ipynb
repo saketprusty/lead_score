{
 "cells": [
  {
   "cell_type": "code",
   "execution_count": 2,
   "metadata": {},
   "outputs": [],
   "source": [
    "#supress warnings\n",
    "import warnings\n",
    "warnings.filterwarnings('ignore')"
   ]
  },
  {
   "cell_type": "code",
   "execution_count": 42,
   "metadata": {},
   "outputs": [],
   "source": [
    "#Importing libraries\n",
    "import pandas as pd, numpy as np\n",
    "import matplotlib.pyplot as plt\n",
    "import seaborn as sns"
   ]
  },
  {
   "cell_type": "markdown",
   "metadata": {},
   "source": [
    "# Step 1: Data Reading"
   ]
  },
  {
   "cell_type": "code",
   "execution_count": 4,
   "metadata": {},
   "outputs": [],
   "source": [
    "#Importing datasets\n",
    "lead_score_df = pd.read_csv('Leads.csv')"
   ]
  },
  {
   "cell_type": "code",
   "execution_count": 5,
   "metadata": {},
   "outputs": [
    {
     "data": {
      "text/html": [
       "<div>\n",
       "<style scoped>\n",
       "    .dataframe tbody tr th:only-of-type {\n",
       "        vertical-align: middle;\n",
       "    }\n",
       "\n",
       "    .dataframe tbody tr th {\n",
       "        vertical-align: top;\n",
       "    }\n",
       "\n",
       "    .dataframe thead th {\n",
       "        text-align: right;\n",
       "    }\n",
       "</style>\n",
       "<table border=\"1\" class=\"dataframe\">\n",
       "  <thead>\n",
       "    <tr style=\"text-align: right;\">\n",
       "      <th></th>\n",
       "      <th>Prospect ID</th>\n",
       "      <th>Lead Number</th>\n",
       "      <th>Lead Origin</th>\n",
       "      <th>Lead Source</th>\n",
       "      <th>Do Not Email</th>\n",
       "      <th>Do Not Call</th>\n",
       "      <th>Converted</th>\n",
       "      <th>TotalVisits</th>\n",
       "      <th>Total Time Spent on Website</th>\n",
       "      <th>Page Views Per Visit</th>\n",
       "      <th>...</th>\n",
       "      <th>Get updates on DM Content</th>\n",
       "      <th>Lead Profile</th>\n",
       "      <th>City</th>\n",
       "      <th>Asymmetrique Activity Index</th>\n",
       "      <th>Asymmetrique Profile Index</th>\n",
       "      <th>Asymmetrique Activity Score</th>\n",
       "      <th>Asymmetrique Profile Score</th>\n",
       "      <th>I agree to pay the amount through cheque</th>\n",
       "      <th>A free copy of Mastering The Interview</th>\n",
       "      <th>Last Notable Activity</th>\n",
       "    </tr>\n",
       "  </thead>\n",
       "  <tbody>\n",
       "    <tr>\n",
       "      <th>0</th>\n",
       "      <td>7927b2df-8bba-4d29-b9a2-b6e0beafe620</td>\n",
       "      <td>660737</td>\n",
       "      <td>API</td>\n",
       "      <td>Olark Chat</td>\n",
       "      <td>No</td>\n",
       "      <td>No</td>\n",
       "      <td>0</td>\n",
       "      <td>0.0</td>\n",
       "      <td>0</td>\n",
       "      <td>0.0</td>\n",
       "      <td>...</td>\n",
       "      <td>No</td>\n",
       "      <td>Select</td>\n",
       "      <td>Select</td>\n",
       "      <td>02.Medium</td>\n",
       "      <td>02.Medium</td>\n",
       "      <td>15.0</td>\n",
       "      <td>15.0</td>\n",
       "      <td>No</td>\n",
       "      <td>No</td>\n",
       "      <td>Modified</td>\n",
       "    </tr>\n",
       "    <tr>\n",
       "      <th>1</th>\n",
       "      <td>2a272436-5132-4136-86fa-dcc88c88f482</td>\n",
       "      <td>660728</td>\n",
       "      <td>API</td>\n",
       "      <td>Organic Search</td>\n",
       "      <td>No</td>\n",
       "      <td>No</td>\n",
       "      <td>0</td>\n",
       "      <td>5.0</td>\n",
       "      <td>674</td>\n",
       "      <td>2.5</td>\n",
       "      <td>...</td>\n",
       "      <td>No</td>\n",
       "      <td>Select</td>\n",
       "      <td>Select</td>\n",
       "      <td>02.Medium</td>\n",
       "      <td>02.Medium</td>\n",
       "      <td>15.0</td>\n",
       "      <td>15.0</td>\n",
       "      <td>No</td>\n",
       "      <td>No</td>\n",
       "      <td>Email Opened</td>\n",
       "    </tr>\n",
       "    <tr>\n",
       "      <th>2</th>\n",
       "      <td>8cc8c611-a219-4f35-ad23-fdfd2656bd8a</td>\n",
       "      <td>660727</td>\n",
       "      <td>Landing Page Submission</td>\n",
       "      <td>Direct Traffic</td>\n",
       "      <td>No</td>\n",
       "      <td>No</td>\n",
       "      <td>1</td>\n",
       "      <td>2.0</td>\n",
       "      <td>1532</td>\n",
       "      <td>2.0</td>\n",
       "      <td>...</td>\n",
       "      <td>No</td>\n",
       "      <td>Potential Lead</td>\n",
       "      <td>Mumbai</td>\n",
       "      <td>02.Medium</td>\n",
       "      <td>01.High</td>\n",
       "      <td>14.0</td>\n",
       "      <td>20.0</td>\n",
       "      <td>No</td>\n",
       "      <td>Yes</td>\n",
       "      <td>Email Opened</td>\n",
       "    </tr>\n",
       "    <tr>\n",
       "      <th>3</th>\n",
       "      <td>0cc2df48-7cf4-4e39-9de9-19797f9b38cc</td>\n",
       "      <td>660719</td>\n",
       "      <td>Landing Page Submission</td>\n",
       "      <td>Direct Traffic</td>\n",
       "      <td>No</td>\n",
       "      <td>No</td>\n",
       "      <td>0</td>\n",
       "      <td>1.0</td>\n",
       "      <td>305</td>\n",
       "      <td>1.0</td>\n",
       "      <td>...</td>\n",
       "      <td>No</td>\n",
       "      <td>Select</td>\n",
       "      <td>Mumbai</td>\n",
       "      <td>02.Medium</td>\n",
       "      <td>01.High</td>\n",
       "      <td>13.0</td>\n",
       "      <td>17.0</td>\n",
       "      <td>No</td>\n",
       "      <td>No</td>\n",
       "      <td>Modified</td>\n",
       "    </tr>\n",
       "    <tr>\n",
       "      <th>4</th>\n",
       "      <td>3256f628-e534-4826-9d63-4a8b88782852</td>\n",
       "      <td>660681</td>\n",
       "      <td>Landing Page Submission</td>\n",
       "      <td>Google</td>\n",
       "      <td>No</td>\n",
       "      <td>No</td>\n",
       "      <td>1</td>\n",
       "      <td>2.0</td>\n",
       "      <td>1428</td>\n",
       "      <td>1.0</td>\n",
       "      <td>...</td>\n",
       "      <td>No</td>\n",
       "      <td>Select</td>\n",
       "      <td>Mumbai</td>\n",
       "      <td>02.Medium</td>\n",
       "      <td>01.High</td>\n",
       "      <td>15.0</td>\n",
       "      <td>18.0</td>\n",
       "      <td>No</td>\n",
       "      <td>No</td>\n",
       "      <td>Modified</td>\n",
       "    </tr>\n",
       "  </tbody>\n",
       "</table>\n",
       "<p>5 rows × 37 columns</p>\n",
       "</div>"
      ],
      "text/plain": [
       "                            Prospect ID  Lead Number              Lead Origin  \\\n",
       "0  7927b2df-8bba-4d29-b9a2-b6e0beafe620       660737                      API   \n",
       "1  2a272436-5132-4136-86fa-dcc88c88f482       660728                      API   \n",
       "2  8cc8c611-a219-4f35-ad23-fdfd2656bd8a       660727  Landing Page Submission   \n",
       "3  0cc2df48-7cf4-4e39-9de9-19797f9b38cc       660719  Landing Page Submission   \n",
       "4  3256f628-e534-4826-9d63-4a8b88782852       660681  Landing Page Submission   \n",
       "\n",
       "      Lead Source Do Not Email Do Not Call  Converted  TotalVisits  \\\n",
       "0      Olark Chat           No          No          0          0.0   \n",
       "1  Organic Search           No          No          0          5.0   \n",
       "2  Direct Traffic           No          No          1          2.0   \n",
       "3  Direct Traffic           No          No          0          1.0   \n",
       "4          Google           No          No          1          2.0   \n",
       "\n",
       "   Total Time Spent on Website  Page Views Per Visit          ...           \\\n",
       "0                            0                   0.0          ...            \n",
       "1                          674                   2.5          ...            \n",
       "2                         1532                   2.0          ...            \n",
       "3                          305                   1.0          ...            \n",
       "4                         1428                   1.0          ...            \n",
       "\n",
       "  Get updates on DM Content    Lead Profile    City  \\\n",
       "0                        No          Select  Select   \n",
       "1                        No          Select  Select   \n",
       "2                        No  Potential Lead  Mumbai   \n",
       "3                        No          Select  Mumbai   \n",
       "4                        No          Select  Mumbai   \n",
       "\n",
       "  Asymmetrique Activity Index Asymmetrique Profile Index  \\\n",
       "0                   02.Medium                  02.Medium   \n",
       "1                   02.Medium                  02.Medium   \n",
       "2                   02.Medium                    01.High   \n",
       "3                   02.Medium                    01.High   \n",
       "4                   02.Medium                    01.High   \n",
       "\n",
       "  Asymmetrique Activity Score Asymmetrique Profile Score  \\\n",
       "0                        15.0                       15.0   \n",
       "1                        15.0                       15.0   \n",
       "2                        14.0                       20.0   \n",
       "3                        13.0                       17.0   \n",
       "4                        15.0                       18.0   \n",
       "\n",
       "  I agree to pay the amount through cheque  \\\n",
       "0                                       No   \n",
       "1                                       No   \n",
       "2                                       No   \n",
       "3                                       No   \n",
       "4                                       No   \n",
       "\n",
       "  A free copy of Mastering The Interview Last Notable Activity  \n",
       "0                                     No              Modified  \n",
       "1                                     No          Email Opened  \n",
       "2                                    Yes          Email Opened  \n",
       "3                                     No              Modified  \n",
       "4                                     No              Modified  \n",
       "\n",
       "[5 rows x 37 columns]"
      ]
     },
     "execution_count": 5,
     "metadata": {},
     "output_type": "execute_result"
    }
   ],
   "source": [
    "#Reading Data\n",
    "lead_score_df.head()"
   ]
  },
  {
   "cell_type": "code",
   "execution_count": 16,
   "metadata": {},
   "outputs": [
    {
     "data": {
      "text/html": [
       "<div>\n",
       "<style scoped>\n",
       "    .dataframe tbody tr th:only-of-type {\n",
       "        vertical-align: middle;\n",
       "    }\n",
       "\n",
       "    .dataframe tbody tr th {\n",
       "        vertical-align: top;\n",
       "    }\n",
       "\n",
       "    .dataframe thead th {\n",
       "        text-align: right;\n",
       "    }\n",
       "</style>\n",
       "<table border=\"1\" class=\"dataframe\">\n",
       "  <thead>\n",
       "    <tr style=\"text-align: right;\">\n",
       "      <th></th>\n",
       "      <th>Prospect ID</th>\n",
       "      <th>Lead Number</th>\n",
       "      <th>Lead Origin</th>\n",
       "      <th>Lead Source</th>\n",
       "      <th>Do Not Email</th>\n",
       "      <th>Do Not Call</th>\n",
       "      <th>Converted</th>\n",
       "      <th>TotalVisits</th>\n",
       "      <th>Total Time Spent on Website</th>\n",
       "      <th>Page Views Per Visit</th>\n",
       "      <th>...</th>\n",
       "      <th>Get updates on DM Content</th>\n",
       "      <th>Lead Profile</th>\n",
       "      <th>City</th>\n",
       "      <th>Asymmetrique Activity Index</th>\n",
       "      <th>Asymmetrique Profile Index</th>\n",
       "      <th>Asymmetrique Activity Score</th>\n",
       "      <th>Asymmetrique Profile Score</th>\n",
       "      <th>I agree to pay the amount through cheque</th>\n",
       "      <th>A free copy of Mastering The Interview</th>\n",
       "      <th>Last Notable Activity</th>\n",
       "    </tr>\n",
       "  </thead>\n",
       "  <tbody>\n",
       "    <tr>\n",
       "      <th>9235</th>\n",
       "      <td>19d6451e-fcd6-407c-b83b-48e1af805ea9</td>\n",
       "      <td>579564</td>\n",
       "      <td>Landing Page Submission</td>\n",
       "      <td>Direct Traffic</td>\n",
       "      <td>Yes</td>\n",
       "      <td>No</td>\n",
       "      <td>1</td>\n",
       "      <td>8.0</td>\n",
       "      <td>1845</td>\n",
       "      <td>2.67</td>\n",
       "      <td>...</td>\n",
       "      <td>No</td>\n",
       "      <td>Potential Lead</td>\n",
       "      <td>Mumbai</td>\n",
       "      <td>02.Medium</td>\n",
       "      <td>01.High</td>\n",
       "      <td>15.0</td>\n",
       "      <td>17.0</td>\n",
       "      <td>No</td>\n",
       "      <td>No</td>\n",
       "      <td>Email Marked Spam</td>\n",
       "    </tr>\n",
       "    <tr>\n",
       "      <th>9236</th>\n",
       "      <td>82a7005b-7196-4d56-95ce-a79f937a158d</td>\n",
       "      <td>579546</td>\n",
       "      <td>Landing Page Submission</td>\n",
       "      <td>Direct Traffic</td>\n",
       "      <td>No</td>\n",
       "      <td>No</td>\n",
       "      <td>0</td>\n",
       "      <td>2.0</td>\n",
       "      <td>238</td>\n",
       "      <td>2.00</td>\n",
       "      <td>...</td>\n",
       "      <td>No</td>\n",
       "      <td>Potential Lead</td>\n",
       "      <td>Mumbai</td>\n",
       "      <td>02.Medium</td>\n",
       "      <td>01.High</td>\n",
       "      <td>14.0</td>\n",
       "      <td>19.0</td>\n",
       "      <td>No</td>\n",
       "      <td>Yes</td>\n",
       "      <td>SMS Sent</td>\n",
       "    </tr>\n",
       "    <tr>\n",
       "      <th>9237</th>\n",
       "      <td>aac550fe-a586-452d-8d3c-f1b62c94e02c</td>\n",
       "      <td>579545</td>\n",
       "      <td>Landing Page Submission</td>\n",
       "      <td>Direct Traffic</td>\n",
       "      <td>Yes</td>\n",
       "      <td>No</td>\n",
       "      <td>0</td>\n",
       "      <td>2.0</td>\n",
       "      <td>199</td>\n",
       "      <td>2.00</td>\n",
       "      <td>...</td>\n",
       "      <td>No</td>\n",
       "      <td>Potential Lead</td>\n",
       "      <td>Mumbai</td>\n",
       "      <td>02.Medium</td>\n",
       "      <td>01.High</td>\n",
       "      <td>13.0</td>\n",
       "      <td>20.0</td>\n",
       "      <td>No</td>\n",
       "      <td>Yes</td>\n",
       "      <td>SMS Sent</td>\n",
       "    </tr>\n",
       "    <tr>\n",
       "      <th>9238</th>\n",
       "      <td>5330a7d1-2f2b-4df4-85d6-64ca2f6b95b9</td>\n",
       "      <td>579538</td>\n",
       "      <td>Landing Page Submission</td>\n",
       "      <td>Google</td>\n",
       "      <td>No</td>\n",
       "      <td>No</td>\n",
       "      <td>1</td>\n",
       "      <td>3.0</td>\n",
       "      <td>499</td>\n",
       "      <td>3.00</td>\n",
       "      <td>...</td>\n",
       "      <td>No</td>\n",
       "      <td>NaN</td>\n",
       "      <td>Other Metro Cities</td>\n",
       "      <td>02.Medium</td>\n",
       "      <td>02.Medium</td>\n",
       "      <td>15.0</td>\n",
       "      <td>16.0</td>\n",
       "      <td>No</td>\n",
       "      <td>No</td>\n",
       "      <td>SMS Sent</td>\n",
       "    </tr>\n",
       "    <tr>\n",
       "      <th>9239</th>\n",
       "      <td>571b5c8e-a5b2-4d57-8574-f2ffb06fdeff</td>\n",
       "      <td>579533</td>\n",
       "      <td>Landing Page Submission</td>\n",
       "      <td>Direct Traffic</td>\n",
       "      <td>No</td>\n",
       "      <td>No</td>\n",
       "      <td>1</td>\n",
       "      <td>6.0</td>\n",
       "      <td>1279</td>\n",
       "      <td>3.00</td>\n",
       "      <td>...</td>\n",
       "      <td>No</td>\n",
       "      <td>Potential Lead</td>\n",
       "      <td>Other Cities</td>\n",
       "      <td>02.Medium</td>\n",
       "      <td>01.High</td>\n",
       "      <td>15.0</td>\n",
       "      <td>18.0</td>\n",
       "      <td>No</td>\n",
       "      <td>Yes</td>\n",
       "      <td>Modified</td>\n",
       "    </tr>\n",
       "  </tbody>\n",
       "</table>\n",
       "<p>5 rows × 37 columns</p>\n",
       "</div>"
      ],
      "text/plain": [
       "                               Prospect ID  Lead Number  \\\n",
       "9235  19d6451e-fcd6-407c-b83b-48e1af805ea9       579564   \n",
       "9236  82a7005b-7196-4d56-95ce-a79f937a158d       579546   \n",
       "9237  aac550fe-a586-452d-8d3c-f1b62c94e02c       579545   \n",
       "9238  5330a7d1-2f2b-4df4-85d6-64ca2f6b95b9       579538   \n",
       "9239  571b5c8e-a5b2-4d57-8574-f2ffb06fdeff       579533   \n",
       "\n",
       "                  Lead Origin     Lead Source Do Not Email Do Not Call  \\\n",
       "9235  Landing Page Submission  Direct Traffic          Yes          No   \n",
       "9236  Landing Page Submission  Direct Traffic           No          No   \n",
       "9237  Landing Page Submission  Direct Traffic          Yes          No   \n",
       "9238  Landing Page Submission          Google           No          No   \n",
       "9239  Landing Page Submission  Direct Traffic           No          No   \n",
       "\n",
       "      Converted  TotalVisits  Total Time Spent on Website  \\\n",
       "9235          1          8.0                         1845   \n",
       "9236          0          2.0                          238   \n",
       "9237          0          2.0                          199   \n",
       "9238          1          3.0                          499   \n",
       "9239          1          6.0                         1279   \n",
       "\n",
       "      Page Views Per Visit          ...          Get updates on DM Content  \\\n",
       "9235                  2.67          ...                                 No   \n",
       "9236                  2.00          ...                                 No   \n",
       "9237                  2.00          ...                                 No   \n",
       "9238                  3.00          ...                                 No   \n",
       "9239                  3.00          ...                                 No   \n",
       "\n",
       "        Lead Profile                City Asymmetrique Activity Index  \\\n",
       "9235  Potential Lead              Mumbai                   02.Medium   \n",
       "9236  Potential Lead              Mumbai                   02.Medium   \n",
       "9237  Potential Lead              Mumbai                   02.Medium   \n",
       "9238             NaN  Other Metro Cities                   02.Medium   \n",
       "9239  Potential Lead        Other Cities                   02.Medium   \n",
       "\n",
       "     Asymmetrique Profile Index Asymmetrique Activity Score  \\\n",
       "9235                    01.High                        15.0   \n",
       "9236                    01.High                        14.0   \n",
       "9237                    01.High                        13.0   \n",
       "9238                  02.Medium                        15.0   \n",
       "9239                    01.High                        15.0   \n",
       "\n",
       "     Asymmetrique Profile Score I agree to pay the amount through cheque  \\\n",
       "9235                       17.0                                       No   \n",
       "9236                       19.0                                       No   \n",
       "9237                       20.0                                       No   \n",
       "9238                       16.0                                       No   \n",
       "9239                       18.0                                       No   \n",
       "\n",
       "     A free copy of Mastering The Interview Last Notable Activity  \n",
       "9235                                     No     Email Marked Spam  \n",
       "9236                                    Yes              SMS Sent  \n",
       "9237                                    Yes              SMS Sent  \n",
       "9238                                     No              SMS Sent  \n",
       "9239                                    Yes              Modified  \n",
       "\n",
       "[5 rows x 37 columns]"
      ]
     },
     "execution_count": 16,
     "metadata": {},
     "output_type": "execute_result"
    }
   ],
   "source": [
    "lead_score_df.tail()"
   ]
  },
  {
   "cell_type": "code",
   "execution_count": 8,
   "metadata": {},
   "outputs": [
    {
     "data": {
      "text/plain": [
       "(9240, 37)"
      ]
     },
     "execution_count": 8,
     "metadata": {},
     "output_type": "execute_result"
    }
   ],
   "source": [
    "#Shape of dataframe\n",
    "lead_score_df.shape"
   ]
  },
  {
   "cell_type": "markdown",
   "metadata": {},
   "source": [
    "# Step 2: Data Inspection"
   ]
  },
  {
   "cell_type": "code",
   "execution_count": 12,
   "metadata": {},
   "outputs": [
    {
     "data": {
      "text/html": [
       "<div>\n",
       "<style scoped>\n",
       "    .dataframe tbody tr th:only-of-type {\n",
       "        vertical-align: middle;\n",
       "    }\n",
       "\n",
       "    .dataframe tbody tr th {\n",
       "        vertical-align: top;\n",
       "    }\n",
       "\n",
       "    .dataframe thead th {\n",
       "        text-align: right;\n",
       "    }\n",
       "</style>\n",
       "<table border=\"1\" class=\"dataframe\">\n",
       "  <thead>\n",
       "    <tr style=\"text-align: right;\">\n",
       "      <th></th>\n",
       "      <th>Lead Number</th>\n",
       "      <th>Converted</th>\n",
       "      <th>TotalVisits</th>\n",
       "      <th>Total Time Spent on Website</th>\n",
       "      <th>Page Views Per Visit</th>\n",
       "      <th>Asymmetrique Activity Score</th>\n",
       "      <th>Asymmetrique Profile Score</th>\n",
       "    </tr>\n",
       "  </thead>\n",
       "  <tbody>\n",
       "    <tr>\n",
       "      <th>count</th>\n",
       "      <td>9240.000000</td>\n",
       "      <td>9240.000000</td>\n",
       "      <td>9103.000000</td>\n",
       "      <td>9240.000000</td>\n",
       "      <td>9103.000000</td>\n",
       "      <td>5022.000000</td>\n",
       "      <td>5022.000000</td>\n",
       "    </tr>\n",
       "    <tr>\n",
       "      <th>mean</th>\n",
       "      <td>617188.435606</td>\n",
       "      <td>0.385390</td>\n",
       "      <td>3.445238</td>\n",
       "      <td>487.698268</td>\n",
       "      <td>2.362820</td>\n",
       "      <td>14.306252</td>\n",
       "      <td>16.344883</td>\n",
       "    </tr>\n",
       "    <tr>\n",
       "      <th>std</th>\n",
       "      <td>23405.995698</td>\n",
       "      <td>0.486714</td>\n",
       "      <td>4.854853</td>\n",
       "      <td>548.021466</td>\n",
       "      <td>2.161418</td>\n",
       "      <td>1.386694</td>\n",
       "      <td>1.811395</td>\n",
       "    </tr>\n",
       "    <tr>\n",
       "      <th>min</th>\n",
       "      <td>579533.000000</td>\n",
       "      <td>0.000000</td>\n",
       "      <td>0.000000</td>\n",
       "      <td>0.000000</td>\n",
       "      <td>0.000000</td>\n",
       "      <td>7.000000</td>\n",
       "      <td>11.000000</td>\n",
       "    </tr>\n",
       "    <tr>\n",
       "      <th>25%</th>\n",
       "      <td>596484.500000</td>\n",
       "      <td>0.000000</td>\n",
       "      <td>1.000000</td>\n",
       "      <td>12.000000</td>\n",
       "      <td>1.000000</td>\n",
       "      <td>14.000000</td>\n",
       "      <td>15.000000</td>\n",
       "    </tr>\n",
       "    <tr>\n",
       "      <th>50%</th>\n",
       "      <td>615479.000000</td>\n",
       "      <td>0.000000</td>\n",
       "      <td>3.000000</td>\n",
       "      <td>248.000000</td>\n",
       "      <td>2.000000</td>\n",
       "      <td>14.000000</td>\n",
       "      <td>16.000000</td>\n",
       "    </tr>\n",
       "    <tr>\n",
       "      <th>75%</th>\n",
       "      <td>637387.250000</td>\n",
       "      <td>1.000000</td>\n",
       "      <td>5.000000</td>\n",
       "      <td>936.000000</td>\n",
       "      <td>3.000000</td>\n",
       "      <td>15.000000</td>\n",
       "      <td>18.000000</td>\n",
       "    </tr>\n",
       "    <tr>\n",
       "      <th>max</th>\n",
       "      <td>660737.000000</td>\n",
       "      <td>1.000000</td>\n",
       "      <td>251.000000</td>\n",
       "      <td>2272.000000</td>\n",
       "      <td>55.000000</td>\n",
       "      <td>18.000000</td>\n",
       "      <td>20.000000</td>\n",
       "    </tr>\n",
       "  </tbody>\n",
       "</table>\n",
       "</div>"
      ],
      "text/plain": [
       "         Lead Number    Converted  TotalVisits  Total Time Spent on Website  \\\n",
       "count    9240.000000  9240.000000  9103.000000                  9240.000000   \n",
       "mean   617188.435606     0.385390     3.445238                   487.698268   \n",
       "std     23405.995698     0.486714     4.854853                   548.021466   \n",
       "min    579533.000000     0.000000     0.000000                     0.000000   \n",
       "25%    596484.500000     0.000000     1.000000                    12.000000   \n",
       "50%    615479.000000     0.000000     3.000000                   248.000000   \n",
       "75%    637387.250000     1.000000     5.000000                   936.000000   \n",
       "max    660737.000000     1.000000   251.000000                  2272.000000   \n",
       "\n",
       "       Page Views Per Visit  Asymmetrique Activity Score  \\\n",
       "count           9103.000000                  5022.000000   \n",
       "mean               2.362820                    14.306252   \n",
       "std                2.161418                     1.386694   \n",
       "min                0.000000                     7.000000   \n",
       "25%                1.000000                    14.000000   \n",
       "50%                2.000000                    14.000000   \n",
       "75%                3.000000                    15.000000   \n",
       "max               55.000000                    18.000000   \n",
       "\n",
       "       Asymmetrique Profile Score  \n",
       "count                 5022.000000  \n",
       "mean                    16.344883  \n",
       "std                      1.811395  \n",
       "min                     11.000000  \n",
       "25%                     15.000000  \n",
       "50%                     16.000000  \n",
       "75%                     18.000000  \n",
       "max                     20.000000  "
      ]
     },
     "execution_count": 12,
     "metadata": {},
     "output_type": "execute_result"
    }
   ],
   "source": [
    "lead_score_df.describe()"
   ]
  },
  {
   "cell_type": "code",
   "execution_count": 13,
   "metadata": {},
   "outputs": [
    {
     "name": "stdout",
     "output_type": "stream",
     "text": [
      "<class 'pandas.core.frame.DataFrame'>\n",
      "RangeIndex: 9240 entries, 0 to 9239\n",
      "Data columns (total 37 columns):\n",
      "Prospect ID                                      9240 non-null object\n",
      "Lead Number                                      9240 non-null int64\n",
      "Lead Origin                                      9240 non-null object\n",
      "Lead Source                                      9204 non-null object\n",
      "Do Not Email                                     9240 non-null object\n",
      "Do Not Call                                      9240 non-null object\n",
      "Converted                                        9240 non-null int64\n",
      "TotalVisits                                      9103 non-null float64\n",
      "Total Time Spent on Website                      9240 non-null int64\n",
      "Page Views Per Visit                             9103 non-null float64\n",
      "Last Activity                                    9137 non-null object\n",
      "Country                                          6779 non-null object\n",
      "Specialization                                   7802 non-null object\n",
      "How did you hear about X Education               7033 non-null object\n",
      "What is your current occupation                  6550 non-null object\n",
      "What matters most to you in choosing a course    6531 non-null object\n",
      "Search                                           9240 non-null object\n",
      "Magazine                                         9240 non-null object\n",
      "Newspaper Article                                9240 non-null object\n",
      "X Education Forums                               9240 non-null object\n",
      "Newspaper                                        9240 non-null object\n",
      "Digital Advertisement                            9240 non-null object\n",
      "Through Recommendations                          9240 non-null object\n",
      "Receive More Updates About Our Courses           9240 non-null object\n",
      "Tags                                             5887 non-null object\n",
      "Lead Quality                                     4473 non-null object\n",
      "Update me on Supply Chain Content                9240 non-null object\n",
      "Get updates on DM Content                        9240 non-null object\n",
      "Lead Profile                                     6531 non-null object\n",
      "City                                             7820 non-null object\n",
      "Asymmetrique Activity Index                      5022 non-null object\n",
      "Asymmetrique Profile Index                       5022 non-null object\n",
      "Asymmetrique Activity Score                      5022 non-null float64\n",
      "Asymmetrique Profile Score                       5022 non-null float64\n",
      "I agree to pay the amount through cheque         9240 non-null object\n",
      "A free copy of Mastering The Interview           9240 non-null object\n",
      "Last Notable Activity                            9240 non-null object\n",
      "dtypes: float64(4), int64(3), object(30)\n",
      "memory usage: 2.6+ MB\n"
     ]
    }
   ],
   "source": [
    "lead_score_df.info()"
   ]
  },
  {
   "cell_type": "code",
   "execution_count": 18,
   "metadata": {},
   "outputs": [
    {
     "data": {
      "text/plain": [
       "0"
      ]
     },
     "execution_count": 18,
     "metadata": {},
     "output_type": "execute_result"
    }
   ],
   "source": [
    "# Checking for missing column names\n",
    "lead_score_df.columns.isnull().sum()"
   ]
  },
  {
   "cell_type": "markdown",
   "metadata": {},
   "source": [
    "# Step 3: Data handling and cleaning"
   ]
  },
  {
   "cell_type": "markdown",
   "metadata": {},
   "source": [
    "The dataframe contains **Select** values which can be considered as missing values"
   ]
  },
  {
   "cell_type": "code",
   "execution_count": 25,
   "metadata": {},
   "outputs": [],
   "source": [
    "# replacing 'select' with null\n",
    "lead_score_df.replace('Select',np.nan,inplace=True)"
   ]
  },
  {
   "cell_type": "code",
   "execution_count": 31,
   "metadata": {},
   "outputs": [
    {
     "data": {
      "text/plain": [
       "How did you hear about X Education               78.46\n",
       "Lead Profile                                     74.19\n",
       "Lead Quality                                     51.59\n",
       "Asymmetrique Profile Score                       45.65\n",
       "Asymmetrique Activity Score                      45.65\n",
       "Asymmetrique Profile Index                       45.65\n",
       "Asymmetrique Activity Index                      45.65\n",
       "City                                             39.71\n",
       "Specialization                                   36.58\n",
       "Tags                                             36.29\n",
       "What matters most to you in choosing a course    29.32\n",
       "What is your current occupation                  29.11\n",
       "Country                                          26.63\n",
       "TotalVisits                                       1.48\n",
       "Page Views Per Visit                              1.48\n",
       "Last Activity                                     1.11\n",
       "Lead Source                                       0.39\n",
       "Lead Origin                                       0.00\n",
       "Lead Number                                       0.00\n",
       "Do Not Email                                      0.00\n",
       "Do Not Call                                       0.00\n",
       "Converted                                         0.00\n",
       "Total Time Spent on Website                       0.00\n",
       "Last Notable Activity                             0.00\n",
       "Newspaper Article                                 0.00\n",
       "Search                                            0.00\n",
       "Magazine                                          0.00\n",
       "A free copy of Mastering The Interview            0.00\n",
       "X Education Forums                                0.00\n",
       "Newspaper                                         0.00\n",
       "Digital Advertisement                             0.00\n",
       "Through Recommendations                           0.00\n",
       "Receive More Updates About Our Courses            0.00\n",
       "Update me on Supply Chain Content                 0.00\n",
       "Get updates on DM Content                         0.00\n",
       "I agree to pay the amount through cheque          0.00\n",
       "Prospect ID                                       0.00\n",
       "dtype: float64"
      ]
     },
     "execution_count": 31,
     "metadata": {},
     "output_type": "execute_result"
    }
   ],
   "source": [
    "# percentage of null values in each variable\n",
    "round((lead_score_df.isnull().sum()/lead_score_df.shape[0])*100, 2).sort_values(ascending=False)"
   ]
  },
  {
   "cell_type": "code",
   "execution_count": 32,
   "metadata": {},
   "outputs": [],
   "source": [
    "# Dropping variables having more than 40% null(incl. 'Select' values) values\n",
    "drop_cols = []\n",
    "for col in lead_score_df.columns:\n",
    "    if lead_score_df[col].isnull().sum()/lead_score_df.shape[0] * 100 > 40:\n",
    "        drop_cols.append(col)"
   ]
  },
  {
   "cell_type": "code",
   "execution_count": 33,
   "metadata": {},
   "outputs": [
    {
     "data": {
      "text/plain": [
       "7"
      ]
     },
     "execution_count": 33,
     "metadata": {},
     "output_type": "execute_result"
    }
   ],
   "source": [
    "# Count of variables having more than 40% null values\n",
    "len(drop_cols)"
   ]
  },
  {
   "cell_type": "code",
   "execution_count": 35,
   "metadata": {},
   "outputs": [],
   "source": [
    "# Dropping variables having more than 40% null values\n",
    "lead_score_df.drop(columns=drop_cols, axis=1, inplace=True)"
   ]
  },
  {
   "cell_type": "code",
   "execution_count": 36,
   "metadata": {
    "scrolled": true
   },
   "outputs": [
    {
     "data": {
      "text/plain": [
       "(9239, 30)"
      ]
     },
     "execution_count": 36,
     "metadata": {},
     "output_type": "execute_result"
    }
   ],
   "source": [
    "# Verify shape of the dataframe\n",
    "lead_score_df.shape"
   ]
  },
  {
   "cell_type": "code",
   "execution_count": 43,
   "metadata": {},
   "outputs": [],
   "source": [
    "# Drop the 'City' and 'Country' columns\n",
    "lead_score_df.drop(['City','Country'], axis=1, inplace=True)"
   ]
  },
  {
   "cell_type": "code",
   "execution_count": 48,
   "metadata": {},
   "outputs": [],
   "source": [
    "# Drop the 'Tags' column as these are provided by the company and doesn't make sense in the analysis\n",
    "lead_score_df.drop(columns='Tags', axis=1, inplace=True)"
   ]
  },
  {
   "cell_type": "markdown",
   "metadata": {},
   "source": [
    "# Step 4: EDA"
   ]
  },
  {
   "cell_type": "markdown",
   "metadata": {},
   "source": [
    "### 4.1: Univariate analysis - categorical features"
   ]
  },
  {
   "cell_type": "markdown",
   "metadata": {},
   "source": [
    "#### Inspecting: What matters most to you in choosing a course"
   ]
  },
  {
   "cell_type": "code",
   "execution_count": 41,
   "metadata": {},
   "outputs": [
    {
     "data": {
      "text/plain": [
       "Better Career Prospects      6527\n",
       "Flexibility & Convenience       2\n",
       "Other                           1\n",
       "Name: What matters most to you in choosing a course, dtype: int64"
      ]
     },
     "execution_count": 41,
     "metadata": {},
     "output_type": "execute_result"
    }
   ],
   "source": [
    "# Label count for \"What matters most to you in choosing a course\"\n",
    "lead_score_df['What matters most to you in choosing a course'].value_counts()"
   ]
  },
  {
   "cell_type": "markdown",
   "metadata": {},
   "source": [
    "As we can see, **Better Career Prospects** matters for more than 70% of leads. So we can drop this feature as this will not impact our analysis."
   ]
  },
  {
   "cell_type": "code",
   "execution_count": 49,
   "metadata": {},
   "outputs": [],
   "source": [
    "lead_score_df.drop('What matters most to you in choosing a course', axis=1, inplace=True)"
   ]
  },
  {
   "cell_type": "markdown",
   "metadata": {},
   "source": [
    "#### Inspecting: Specialization                              "
   ]
  },
  {
   "cell_type": "code",
   "execution_count": 51,
   "metadata": {},
   "outputs": [
    {
     "data": {
      "text/plain": [
       "Finance Management                   976\n",
       "Human Resource Management            848\n",
       "Marketing Management                 838\n",
       "Operations Management                503\n",
       "Business Administration              403\n",
       "IT Projects Management               366\n",
       "Supply Chain Management              349\n",
       "Banking, Investment And Insurance    338\n",
       "Media and Advertising                203\n",
       "Travel and Tourism                   203\n",
       "International Business               178\n",
       "Healthcare Management                159\n",
       "Hospitality Management               114\n",
       "E-COMMERCE                           112\n",
       "Retail Management                    100\n",
       "Rural and Agribusiness                73\n",
       "E-Business                            57\n",
       "Services Excellence                   40\n",
       "Name: Specialization, dtype: int64"
      ]
     },
     "execution_count": 51,
     "metadata": {},
     "output_type": "execute_result"
    }
   ],
   "source": [
    "# Label count for \"Specialization\"\n",
    "lead_score_df['Specialization'].value_counts()"
   ]
  },
  {
   "cell_type": "markdown",
   "metadata": {},
   "source": [
    "Imputing **Finance Management** as it has occured maximum in the **Specialization** column."
   ]
  },
  {
   "cell_type": "code",
   "execution_count": 53,
   "metadata": {},
   "outputs": [],
   "source": [
    "lead_score_df['Specialization'] = lead_score_df['Specialization'].replace(np.nan,'Finance Management')"
   ]
  },
  {
   "cell_type": "markdown",
   "metadata": {},
   "source": [
    "#### Inspecting: What is your current occupation"
   ]
  },
  {
   "cell_type": "code",
   "execution_count": 56,
   "metadata": {},
   "outputs": [
    {
     "data": {
      "text/plain": [
       "Unemployed              5599\n",
       "Working Professional     706\n",
       "Student                  210\n",
       "Other                     16\n",
       "Housewife                 10\n",
       "Businessman                8\n",
       "Name: What is your current occupation, dtype: int64"
      ]
     },
     "execution_count": 56,
     "metadata": {},
     "output_type": "execute_result"
    }
   ],
   "source": [
    "# Label count for **What is your current occupation**\n",
    "lead_score_df['What is your current occupation'].value_counts()"
   ]
  },
  {
   "cell_type": "markdown",
   "metadata": {},
   "source": [
    "Imputing **Unemployed** as it has occured maximum in the **What is your current occupation** column."
   ]
  },
  {
   "cell_type": "code",
   "execution_count": 57,
   "metadata": {},
   "outputs": [],
   "source": [
    "lead_score_df['What is your current occupation'] = lead_score_df['What is your current occupation'].replace(np.nan,'Unemployed')"
   ]
  },
  {
   "cell_type": "markdown",
   "metadata": {},
   "source": [
    "#### Inspecting: Last Activity"
   ]
  },
  {
   "cell_type": "code",
   "execution_count": 61,
   "metadata": {},
   "outputs": [
    {
     "data": {
      "text/plain": [
       "Email Opened                    3436\n",
       "SMS Sent                        2745\n",
       "Olark Chat Conversation          973\n",
       "Page Visited on Website          640\n",
       "Converted to Lead                428\n",
       "Email Bounced                    326\n",
       "Email Link Clicked               267\n",
       "Form Submitted on Website        116\n",
       "Unreachable                       93\n",
       "Unsubscribed                      61\n",
       "Had a Phone Conversation          30\n",
       "Approached upfront                 9\n",
       "View in browser link Clicked       6\n",
       "Email Marked Spam                  2\n",
       "Email Received                     2\n",
       "Visited Booth in Tradeshow         1\n",
       "Resubscribed to emails             1\n",
       "Name: Last Activity, dtype: int64"
      ]
     },
     "execution_count": 61,
     "metadata": {},
     "output_type": "execute_result"
    }
   ],
   "source": [
    "# Label count for **Last Activity**\n",
    "lead_score_df['Last Activity'].value_counts()"
   ]
  },
  {
   "cell_type": "markdown",
   "metadata": {},
   "source": [
    "Imputing **Email Opened** as it has occured maximum in the **Last Activity** column."
   ]
  },
  {
   "cell_type": "code",
   "execution_count": 62,
   "metadata": {},
   "outputs": [],
   "source": [
    "lead_score_df['Last Activity'] = lead_score_df['Last Activity'].replace(np.nan,'Email Opened')"
   ]
  },
  {
   "cell_type": "markdown",
   "metadata": {},
   "source": [
    "#### Inspecting: Lead Source"
   ]
  },
  {
   "cell_type": "code",
   "execution_count": 68,
   "metadata": {},
   "outputs": [
    {
     "data": {
      "text/plain": [
       "Google               2909\n",
       "Direct Traffic       2543\n",
       "Olark Chat           1755\n",
       "Organic Search       1153\n",
       "Reference             534\n",
       "Welingak Website      142\n",
       "Referral Sites        125\n",
       "Facebook               55\n",
       "bing                    6\n",
       "Click2call              4\n",
       "Press_Release           2\n",
       "Social Media            2\n",
       "Live Chat               2\n",
       "youtubechannel          1\n",
       "welearnblog_Home        1\n",
       "NC_EDM                  1\n",
       "Pay per Click Ads       1\n",
       "blog                    1\n",
       "WeLearn                 1\n",
       "testone                 1\n",
       "Name: Lead Source, dtype: int64"
      ]
     },
     "execution_count": 68,
     "metadata": {},
     "output_type": "execute_result"
    }
   ],
   "source": [
    "lead_score_df['Lead Source'].value_counts()"
   ]
  },
  {
   "cell_type": "markdown",
   "metadata": {},
   "source": [
    "There's another label **google** which is same as **Google**, may be a typo"
   ]
  },
  {
   "cell_type": "code",
   "execution_count": 67,
   "metadata": {},
   "outputs": [],
   "source": [
    "# Replace 'google' with 'Google'\n",
    "lead_score_df['Lead Source'] = lead_score_df['Lead Source'].replace('google','Google')"
   ]
  },
  {
   "cell_type": "markdown",
   "metadata": {},
   "source": [
    "Imputing **Google** as it has occured maximum in the **Lead Source** column."
   ]
  },
  {
   "cell_type": "code",
   "execution_count": 65,
   "metadata": {},
   "outputs": [],
   "source": [
    "lead_score_df['Lead Source'] = lead_score_df['Lead Source'].replace(np.nan,'Google')"
   ]
  },
  {
   "cell_type": "markdown",
   "metadata": {},
   "source": [
    "### 4.2: Univariate analysis - Numerical features"
   ]
  },
  {
   "cell_type": "markdown",
   "metadata": {},
   "source": [
    "### Outlier analysis"
   ]
  },
  {
   "cell_type": "code",
   "execution_count": 145,
   "metadata": {},
   "outputs": [
    {
     "data": {
      "image/png": "[encoded data removed]",
      "text/plain": [
       "<Figure size 1080x720 with 3 Axes>"
      ]
     },
     "metadata": {},
     "output_type": "display_data"
    }
   ],
   "source": [
    "# Finding the outliers using Box-plot\n",
    "plt.figure(figsize = (15,10))\n",
    "\n",
    "plt.subplot(2,3,1)\n",
    "sns.boxplot(lead_score_df['TotalVisits'])\n",
    "plt.subplot(2,3,2)\n",
    "sns.boxplot(lead_score_df['Page Views Per Visit'])\n",
    "plt.subplot(2,3,3)\n",
    "sns.boxplot(lead_score_df['Total Time Spent on Website'])\n",
    "\n",
    "plt.show()"
   ]
  },
  {
   "cell_type": "markdown",
   "metadata": {},
   "source": [
    "- From the box-plot, **TotalVisits** and **Page Views Per Visit** have outliers which need to be treated.\n",
    "- As these are numerical(continuous) variables, we will impute the null values with **median** respectively.\n",
    "- In **Total Time Spent on Website** values are more spreaded above median."
   ]
  },
  {
   "cell_type": "code",
   "execution_count": 73,
   "metadata": {},
   "outputs": [],
   "source": [
    "# Imputing null values with respective median\n",
    "lead_score_df['TotalVisits'] = lead_score_df['TotalVisits'].fillna(lead_score_df['TotalVisits'].median())\n",
    "lead_score_df['Page Views Per Visit'] = lead_score_df['Page Views Per Visit'].fillna(lead_score_df['Page Views Per Visit'].median())"
   ]
  },
  {
   "cell_type": "markdown",
   "metadata": {},
   "source": [
    "#### Reinspecting null values"
   ]
  },
  {
   "cell_type": "code",
   "execution_count": 75,
   "metadata": {},
   "outputs": [
    {
     "data": {
      "text/plain": [
       "Prospect ID                                 0.0\n",
       "Lead Number                                 0.0\n",
       "Lead Origin                                 0.0\n",
       "Lead Source                                 0.0\n",
       "Do Not Email                                0.0\n",
       "Do Not Call                                 0.0\n",
       "Converted                                   0.0\n",
       "TotalVisits                                 0.0\n",
       "Total Time Spent on Website                 0.0\n",
       "Page Views Per Visit                        0.0\n",
       "Last Activity                               0.0\n",
       "Specialization                              0.0\n",
       "What is your current occupation             0.0\n",
       "Search                                      0.0\n",
       "Magazine                                    0.0\n",
       "Newspaper Article                           0.0\n",
       "X Education Forums                          0.0\n",
       "Newspaper                                   0.0\n",
       "Digital Advertisement                       0.0\n",
       "Through Recommendations                     0.0\n",
       "Receive More Updates About Our Courses      0.0\n",
       "Update me on Supply Chain Content           0.0\n",
       "Get updates on DM Content                   0.0\n",
       "I agree to pay the amount through cheque    0.0\n",
       "A free copy of Mastering The Interview      0.0\n",
       "Last Notable Activity                       0.0\n",
       "dtype: float64"
      ]
     },
     "execution_count": 75,
     "metadata": {},
     "output_type": "execute_result"
    }
   ],
   "source": [
    "round((lead_score_df.isnull().sum()/lead_score_df.shape[0]*100), 2)"
   ]
  },
  {
   "cell_type": "markdown",
   "metadata": {},
   "source": [
    "No more null values in the dataframe object"
   ]
  },
  {
   "cell_type": "markdown",
   "metadata": {},
   "source": [
    "- **Lead Numer** can be considered as index\n",
    "- Drop **Prospect ID** as it is just an unique ID for the customer and will not impact our analsis."
   ]
  },
  {
   "cell_type": "code",
   "execution_count": 79,
   "metadata": {},
   "outputs": [],
   "source": [
    "# Make Lead Number as index for the dataframe\n",
    "lead_score_df = lead_score_df.set_index('Lead Number')\n",
    "\n",
    "# Drop Prospect ID column\n",
    "lead_score_df.drop('Prospect ID', axis=1, inplace=True)"
   ]
  },
  {
   "cell_type": "code",
   "execution_count": 76,
   "metadata": {},
   "outputs": [
    {
     "data": {
      "text/plain": [
       "(9239, 26)"
      ]
     },
     "execution_count": 76,
     "metadata": {},
     "output_type": "execute_result"
    }
   ],
   "source": [
    "# re-check shape of dataframe\n",
    "lead_score_df.shape"
   ]
  },
  {
   "cell_type": "markdown",
   "metadata": {},
   "source": [
    "#### Checking for highly-skewed distribution of features"
   ]
  },
  {
   "cell_type": "code",
   "execution_count": 86,
   "metadata": {},
   "outputs": [
    {
     "data": {
      "text/plain": [
       "Total Time Spent on Website                 1731\n",
       "Page Views Per Visit                         114\n",
       "TotalVisits                                   41\n",
       "Lead Source                                   20\n",
       "Specialization                                18\n",
       "Last Activity                                 17\n",
       "Last Notable Activity                         16\n",
       "What is your current occupation                6\n",
       "Lead Origin                                    5\n",
       "X Education Forums                             2\n",
       "Newspaper Article                              2\n",
       "A free copy of Mastering The Interview         2\n",
       "Newspaper                                      2\n",
       "Digital Advertisement                          2\n",
       "Through Recommendations                        2\n",
       "Converted                                      2\n",
       "Do Not Call                                    2\n",
       "Do Not Email                                   2\n",
       "Search                                         2\n",
       "Magazine                                       1\n",
       "Receive More Updates About Our Courses         1\n",
       "Update me on Supply Chain Content              1\n",
       "Get updates on DM Content                      1\n",
       "I agree to pay the amount through cheque       1\n",
       "dtype: int64"
      ]
     },
     "execution_count": 86,
     "metadata": {},
     "output_type": "execute_result"
    }
   ],
   "source": [
    "# Unique values in each column\n",
    "lead_score_df.nunique().sort_values(ascending=False)"
   ]
  },
  {
   "cell_type": "markdown",
   "metadata": {},
   "source": [
    "#### Variables having 1 label can be dropped:\n",
    "- Magazine                                \n",
    "- Receive More Updates About Our Courses  \n",
    "- Update me on Supply Chain Content       \n",
    "- Get updates on DM Content               \n",
    "- I agree to pay the amount through cheque"
   ]
  },
  {
   "cell_type": "code",
   "execution_count": 90,
   "metadata": {},
   "outputs": [],
   "source": [
    "# Iterating lead_score_df columns and fetching columns having 1 label\n",
    "cols_with_1_label = []\n",
    "\n",
    "for col in lead_score_df.columns:\n",
    "    if lead_score_df[col].nunique() == 1:\n",
    "        cols_with_1_label.append(col)"
   ]
  },
  {
   "cell_type": "code",
   "execution_count": 92,
   "metadata": {},
   "outputs": [],
   "source": [
    "# Drop columns having 1 label\n",
    "lead_score_df.drop(cols_with_1_label, axis=1, inplace=True)"
   ]
  },
  {
   "cell_type": "markdown",
   "metadata": {},
   "source": [
    "#### Columns with 2 variables\n",
    "\n",
    "- Search\n",
    "- Newspaper Article\n",
    "- X Education Forums\n",
    "- Newspaper\n",
    "- Digital Advertisement\n",
    "- A free copy of Mastering The Interview\n",
    "- Through Recommendations               \n",
    "- Converted                             \n",
    "- Do Not Call                           \n",
    "- Do Not Email                          "
   ]
  },
  {
   "cell_type": "markdown",
   "metadata": {},
   "source": [
    "**Converted** is the Target variable in this case-study."
   ]
  },
  {
   "cell_type": "code",
   "execution_count": 95,
   "metadata": {},
   "outputs": [
    {
     "data": {
      "text/plain": [
       "No     9225\n",
       "Yes      14\n",
       "Name: Search, dtype: int64"
      ]
     },
     "execution_count": 95,
     "metadata": {},
     "output_type": "execute_result"
    }
   ],
   "source": [
    "lead_score_df['Search'].value_counts()"
   ]
  },
  {
   "cell_type": "code",
   "execution_count": 97,
   "metadata": {},
   "outputs": [
    {
     "data": {
      "text/plain": [
       "No     9237\n",
       "Yes       2\n",
       "Name: Newspaper Article, dtype: int64"
      ]
     },
     "execution_count": 97,
     "metadata": {},
     "output_type": "execute_result"
    }
   ],
   "source": [
    "lead_score_df['Newspaper Article'].value_counts()"
   ]
  },
  {
   "cell_type": "code",
   "execution_count": 98,
   "metadata": {},
   "outputs": [
    {
     "data": {
      "text/plain": [
       "No     9238\n",
       "Yes       1\n",
       "Name: X Education Forums, dtype: int64"
      ]
     },
     "execution_count": 98,
     "metadata": {},
     "output_type": "execute_result"
    }
   ],
   "source": [
    "lead_score_df['X Education Forums'].value_counts()"
   ]
  },
  {
   "cell_type": "code",
   "execution_count": 99,
   "metadata": {},
   "outputs": [
    {
     "data": {
      "text/plain": [
       "No     9238\n",
       "Yes       1\n",
       "Name: Newspaper, dtype: int64"
      ]
     },
     "execution_count": 99,
     "metadata": {},
     "output_type": "execute_result"
    }
   ],
   "source": [
    "lead_score_df['Newspaper'].value_counts()"
   ]
  },
  {
   "cell_type": "code",
   "execution_count": 100,
   "metadata": {},
   "outputs": [
    {
     "data": {
      "text/plain": [
       "No     9235\n",
       "Yes       4\n",
       "Name: Digital Advertisement, dtype: int64"
      ]
     },
     "execution_count": 100,
     "metadata": {},
     "output_type": "execute_result"
    }
   ],
   "source": [
    "lead_score_df['Digital Advertisement'].value_counts()"
   ]
  },
  {
   "cell_type": "code",
   "execution_count": 102,
   "metadata": {},
   "outputs": [
    {
     "data": {
      "text/plain": [
       "No     9232\n",
       "Yes       7\n",
       "Name: Through Recommendations, dtype: int64"
      ]
     },
     "execution_count": 102,
     "metadata": {},
     "output_type": "execute_result"
    }
   ],
   "source": [
    "lead_score_df['Through Recommendations'].value_counts()"
   ]
  },
  {
   "cell_type": "code",
   "execution_count": 107,
   "metadata": {},
   "outputs": [
    {
     "data": {
      "text/plain": [
       "No     6351\n",
       "Yes    2888\n",
       "Name: A free copy of Mastering The Interview, dtype: int64"
      ]
     },
     "execution_count": 107,
     "metadata": {},
     "output_type": "execute_result"
    }
   ],
   "source": [
    "lead_score_df['A free copy of Mastering The Interview'].value_counts()"
   ]
  },
  {
   "cell_type": "code",
   "execution_count": 104,
   "metadata": {},
   "outputs": [
    {
     "data": {
      "text/plain": [
       "No     9237\n",
       "Yes       2\n",
       "Name: Do Not Call, dtype: int64"
      ]
     },
     "execution_count": 104,
     "metadata": {},
     "output_type": "execute_result"
    }
   ],
   "source": [
    "lead_score_df['Do Not Call'].value_counts()"
   ]
  },
  {
   "cell_type": "code",
   "execution_count": 105,
   "metadata": {},
   "outputs": [
    {
     "data": {
      "text/plain": [
       "No     8505\n",
       "Yes     734\n",
       "Name: Do Not Email, dtype: int64"
      ]
     },
     "execution_count": 105,
     "metadata": {},
     "output_type": "execute_result"
    }
   ],
   "source": [
    "lead_score_df['Do Not Email'].value_counts()"
   ]
  },
  {
   "cell_type": "markdown",
   "metadata": {},
   "source": [
    "- All the columns having 2 labels are distributed in **unimodal** fashion, except **A free copy of Mastering The Interview** column.\n",
    "- So we will drop those columns"
   ]
  },
  {
   "cell_type": "code",
   "execution_count": 108,
   "metadata": {},
   "outputs": [
    {
     "data": {
      "text/plain": [
       "8"
      ]
     },
     "execution_count": 108,
     "metadata": {},
     "output_type": "execute_result"
    }
   ],
   "source": [
    "drop_unimodal_cols = ['Search','Newspaper Article','X Education Forums','Newspaper','Digital Advertisement','Through Recommendations','Do Not Call','Do Not Email']\n",
    "len(drop_unimodal_cols)"
   ]
  },
  {
   "cell_type": "code",
   "execution_count": 109,
   "metadata": {},
   "outputs": [],
   "source": [
    "# Drop unimodal columns\n",
    "lead_score_df.drop(drop_unimodal_cols, axis=1, inplace=True)"
   ]
  },
  {
   "cell_type": "code",
   "execution_count": 110,
   "metadata": {},
   "outputs": [
    {
     "data": {
      "text/plain": [
       "(9239, 11)"
      ]
     },
     "execution_count": 110,
     "metadata": {},
     "output_type": "execute_result"
    }
   ],
   "source": [
    "# Re-check shape of the dataframe\n",
    "lead_score_df.shape"
   ]
  },
  {
   "cell_type": "markdown",
   "metadata": {},
   "source": [
    "#### Determine Numerical and Categorical columns"
   ]
  },
  {
   "cell_type": "code",
   "execution_count": 114,
   "metadata": {},
   "outputs": [
    {
     "data": {
      "text/plain": [
       "Total Time Spent on Website               1731\n",
       "Page Views Per Visit                       114\n",
       "TotalVisits                                 41\n",
       "Lead Source                                 20\n",
       "Specialization                              18\n",
       "Last Activity                               17\n",
       "Last Notable Activity                       16\n",
       "What is your current occupation              6\n",
       "Lead Origin                                  5\n",
       "A free copy of Mastering The Interview       2\n",
       "Converted                                    2\n",
       "dtype: int64"
      ]
     },
     "execution_count": 114,
     "metadata": {},
     "output_type": "execute_result"
    }
   ],
   "source": [
    "lead_score_df.nunique().sort_values(ascending=False)"
   ]
  },
  {
   "cell_type": "code",
   "execution_count": 116,
   "metadata": {},
   "outputs": [],
   "source": [
    "# Numerical columns\n",
    "numerical_cols = ['Total Time Spent on Website','Page Views Per Visit','TotalVisits']\n",
    "\n",
    "# Categorical columns\n",
    "categorical_cols = ['Lead Source','Specialization','Last Activity','Last Notable Activity'\n",
    "                    ,'What is your current occupation','Lead Origin'\n",
    "                    ,'A free copy of Mastering The Interview']            "
   ]
  },
  {
   "cell_type": "markdown",
   "metadata": {},
   "source": [
    "### 4.3: Bivariate analysis"
   ]
  },
  {
   "cell_type": "markdown",
   "metadata": {},
   "source": [
    "#### Numerical - Numerical"
   ]
  },
  {
   "cell_type": "code",
   "execution_count": 122,
   "metadata": {},
   "outputs": [
    {
     "data": {
      "text/plain": [
       "<matplotlib.axes._subplots.AxesSubplot at 0x28d92eaae80>"
      ]
     },
     "execution_count": 122,
     "metadata": {},
     "output_type": "execute_result"
    },
    {
     "data": {
      "image/png": "[encoded data removed]",
      "text/plain": [
       "<Figure size 432x288 with 2 Axes>"
      ]
     },
     "metadata": {},
     "output_type": "display_data"
    }
   ],
   "source": [
    "# Correlation values using seaborn heatmap plt\n",
    "\n",
    "sns.heatmap(lead_score_df[['Total Time Spent on Website','Page Views Per Visit','TotalVisits']].corr(),annot=True,cmap='Reds')"
   ]
  },
  {
   "cell_type": "markdown",
   "metadata": {},
   "source": [
    "- **Page Views Per Visit** and **TotalVisits** are **moderately correlated** with **0.51**."
   ]
  },
  {
   "cell_type": "code",
   "execution_count": 138,
   "metadata": {},
   "outputs": [
    {
     "data": {
      "image/png": "[encoded data removed]",
      "text/plain": [
       "<Figure size 1800x2880 with 7 Axes>"
      ]
     },
     "metadata": {},
     "output_type": "display_data"
    }
   ],
   "source": [
    "# Plot counplot for categorical features\n",
    "plt.figure(figsize=(25,40))\n",
    "\n",
    "plt.subplots_adjust(wspace=.2,hspace=1 )\n",
    "for i in enumerate(categorical_cols):\n",
    "    plt.subplot(7,3, i[0]+1)\n",
    "    sns.countplot(i[1],data=lead_score_df) \n",
    "    plt.xticks(rotation=90)\n",
    "plt.show()"
   ]
  },
  {
   "cell_type": "markdown",
   "metadata": {},
   "source": [
    "- In some categorical variables there are more number of labels so we will replace with **Others** which have occured less."
   ]
  },
  {
   "cell_type": "code",
   "execution_count": 129,
   "metadata": {},
   "outputs": [],
   "source": [
    "# Replacing labels in Lead Score occured less than 1000\n",
    "Lead_Score_dict = dict(lead_score_df['Lead Source'].value_counts()<1000)\n",
    "\n",
    "# Impute those columns with 'Others'\n",
    "for label in Lead_Score_dict.keys():\n",
    "    if Lead_Score_dict[label] == True:\n",
    "        lead_score_df['Lead Source']=lead_score_df['Lead Source'].replace(label,'Others')"
   ]
  },
  {
   "cell_type": "code",
   "execution_count": 132,
   "metadata": {},
   "outputs": [],
   "source": [
    "# Replacing labels in Specialization occured less than 300\n",
    "Specialization_dict = dict(lead_score_df['Specialization'].value_counts()<300)\n",
    "\n",
    "# Impute those columns with 'Others'\n",
    "for label in Specialization_dict.keys():\n",
    "    if Specialization_dict[label] == True:\n",
    "        lead_score_df['Specialization']=lead_score_df['Specialization'].replace(label,'Others')"
   ]
  },
  {
   "cell_type": "code",
   "execution_count": 135,
   "metadata": {},
   "outputs": [],
   "source": [
    "# Replacing labels in Last Activity occured less than 300\n",
    "Last_Activity_dict = dict(lead_score_df['Last Activity'].value_counts()<300)\n",
    "\n",
    "# Impute those columns with 'Others'\n",
    "for label in Last_Activity_dict.keys():\n",
    "    if Last_Activity_dict[label] == True:\n",
    "        lead_score_df['Last Activity']=lead_score_df['Last Activity'].replace(label,'Others')"
   ]
  },
  {
   "cell_type": "code",
   "execution_count": 137,
   "metadata": {},
   "outputs": [],
   "source": [
    "# Replacing labels in Last Notable Activity occured less than 500\n",
    "Last_Notable_Activity_dict = dict(lead_score_df['Last Notable Activity'].value_counts()<500)\n",
    "\n",
    "# Impute those columns with 'Others'\n",
    "for label in Last_Notable_Activity_dict.keys():\n",
    "    if Last_Notable_Activity_dict[label] == True:\n",
    "        lead_score_df['Last Notable Activity']=lead_score_df['Last Notable Activity'].replace(label,'Others')"
   ]
  },
  {
   "cell_type": "code",
   "execution_count": 139,
   "metadata": {},
   "outputs": [
    {
     "data": {
      "text/plain": [
       "Unemployed              8289\n",
       "Working Professional     706\n",
       "Student                  210\n",
       "Other                     16\n",
       "Housewife                 10\n",
       "Businessman                8\n",
       "Name: What is your current occupation, dtype: int64"
      ]
     },
     "execution_count": 139,
     "metadata": {},
     "output_type": "execute_result"
    }
   ],
   "source": [
    "lead_score_df['What is your current occupation'].value_counts()"
   ]
  },
  {
   "cell_type": "code",
   "execution_count": 141,
   "metadata": {},
   "outputs": [
    {
     "data": {
      "image/png": "[encoded data removed]",
      "text/plain": [
       "<Figure size 1800x2880 with 7 Axes>"
      ]
     },
     "metadata": {},
     "output_type": "display_data"
    }
   ],
   "source": [
    "# Again plot counplot for categorical features\n",
    "plt.figure(figsize=(25,40))\n",
    "\n",
    "plt.subplots_adjust(wspace=.2,hspace=1 )\n",
    "for i in enumerate(categorical_cols):\n",
    "    plt.subplot(7,3, i[0]+1)\n",
    "    sns.countplot(i[1],data=lead_score_df) \n",
    "    plt.xticks(rotation=90)\n",
    "plt.show()"
   ]
  },
  {
   "cell_type": "markdown",
   "metadata": {},
   "source": [
    "##### Insights\n",
    "- **Direct Traffic** and **Google** are the two main source of Leads.\n",
    "- The number of **Email Opened** is more than **SMS Sent** in Last Activity. \n",
    "- Most of the customers have chosen **Finance Management** as Specialization.\n",
    "- Most of the leads have declined for **A free copy of mastering the interview**"
   ]
  },
  {
   "cell_type": "markdown",
   "metadata": {},
   "source": [
    "#### Univariate analysis (numerical)"
   ]
  },
  {
   "cell_type": "code",
   "execution_count": 146,
   "metadata": {},
   "outputs": [
    {
     "name": "stderr",
     "output_type": "stream",
     "text": [
      "C:\\Users\\DELL\\Anaconda3\\lib\\site-packages\\matplotlib\\axes\\_axes.py:6462: UserWarning: The 'normed' kwarg is deprecated, and has been replaced by the 'density' kwarg.\n",
      "  warnings.warn(\"The 'normed' kwarg is deprecated, and has been \"\n",
      "C:\\Users\\DELL\\Anaconda3\\lib\\site-packages\\matplotlib\\axes\\_axes.py:6462: UserWarning: The 'normed' kwarg is deprecated, and has been replaced by the 'density' kwarg.\n",
      "  warnings.warn(\"The 'normed' kwarg is deprecated, and has been \"\n",
      "C:\\Users\\DELL\\Anaconda3\\lib\\site-packages\\matplotlib\\axes\\_axes.py:6462: UserWarning: The 'normed' kwarg is deprecated, and has been replaced by the 'density' kwarg.\n",
      "  warnings.warn(\"The 'normed' kwarg is deprecated, and has been \"\n"
     ]
    },
    {
     "data": {
      "image/png": "[encoded data removed]",
      "text/plain": [
       "<Figure size 1080x720 with 3 Axes>"
      ]
     },
     "metadata": {},
     "output_type": "display_data"
    }
   ],
   "source": [
    "plt.figure(figsize=(15,10))\n",
    "plt.subplots_adjust(bottom=.01)\n",
    "for i in enumerate(numerical_cols):\n",
    "    \n",
    "    plt.subplot(2,2, i[0]+1)\n",
    "    sns.distplot(lead_score_df[i[1]])\n",
    "    \n",
    "    plt.xticks(rotation=90)\n",
    "\n",
    "plt.show()"
   ]
  },
  {
   "cell_type": "markdown",
   "metadata": {},
   "source": [
    "#### Insights\n",
    "- None of the continuous variable are normally distributed.\n",
    "- **Page Views Per Visit** and **TotalVisits** have outliers."
   ]
  },
  {
   "cell_type": "markdown",
   "metadata": {},
   "source": []
  },
  {
   "cell_type": "markdown",
   "metadata": {},
   "source": [
    "####  Bivariate analysis"
   ]
  },
  {
   "cell_type": "code",
   "execution_count": 147,
   "metadata": {},
   "outputs": [
    {
     "data": {
      "image/png": "[encoded data removed]",
      "text/plain": [
       "<Figure size 1080x1440 with 7 Axes>"
      ]
     },
     "metadata": {},
     "output_type": "display_data"
    }
   ],
   "source": [
    "plt.figure(figsize=(15,20))\n",
    "plt.subplots_adjust(wspace=.2,hspace=1.2 )\n",
    "for i in enumerate(categorical_cols):\n",
    "    plt.subplot(4,2, i[0]+1)\n",
    "    sns.countplot(x = i[1],hue = 'Converted', data = lead_score_df)\n",
    "    plt.xticks(rotation=90)\n",
    "\n",
    "plt.show()"
   ]
  },
  {
   "cell_type": "markdown",
   "metadata": {},
   "source": [
    "##### Insights\n",
    "- **Last Activity** is almost same as **Last Notale Activity**\n",
    "- In **Specialization** the most of the leads comes from **Finance management**."
   ]
  },
  {
   "cell_type": "markdown",
   "metadata": {},
   "source": [
    "# Step 5: Data preparation and Feature selection"
   ]
  },
  {
   "cell_type": "code",
   "execution_count": 152,
   "metadata": {},
   "outputs": [
    {
     "data": {
      "text/html": [
       "<div>\n",
       "<style scoped>\n",
       "    .dataframe tbody tr th:only-of-type {\n",
       "        vertical-align: middle;\n",
       "    }\n",
       "\n",
       "    .dataframe tbody tr th {\n",
       "        vertical-align: top;\n",
       "    }\n",
       "\n",
       "    .dataframe thead th {\n",
       "        text-align: right;\n",
       "    }\n",
       "</style>\n",
       "<table border=\"1\" class=\"dataframe\">\n",
       "  <thead>\n",
       "    <tr style=\"text-align: right;\">\n",
       "      <th></th>\n",
       "      <th>Lead Origin</th>\n",
       "      <th>Lead Source</th>\n",
       "      <th>Converted</th>\n",
       "      <th>TotalVisits</th>\n",
       "      <th>Total Time Spent on Website</th>\n",
       "      <th>Page Views Per Visit</th>\n",
       "      <th>Last Activity</th>\n",
       "      <th>Specialization</th>\n",
       "      <th>What is your current occupation</th>\n",
       "      <th>A free copy of Mastering The Interview</th>\n",
       "    </tr>\n",
       "    <tr>\n",
       "      <th>Lead Number</th>\n",
       "      <th></th>\n",
       "      <th></th>\n",
       "      <th></th>\n",
       "      <th></th>\n",
       "      <th></th>\n",
       "      <th></th>\n",
       "      <th></th>\n",
       "      <th></th>\n",
       "      <th></th>\n",
       "      <th></th>\n",
       "    </tr>\n",
       "  </thead>\n",
       "  <tbody>\n",
       "    <tr>\n",
       "      <th>660737</th>\n",
       "      <td>API</td>\n",
       "      <td>Olark Chat</td>\n",
       "      <td>0</td>\n",
       "      <td>0.0</td>\n",
       "      <td>0</td>\n",
       "      <td>0.0</td>\n",
       "      <td>Page Visited on Website</td>\n",
       "      <td>Finance Management</td>\n",
       "      <td>Unemployed</td>\n",
       "      <td>0</td>\n",
       "    </tr>\n",
       "    <tr>\n",
       "      <th>660727</th>\n",
       "      <td>Landing Page Submission</td>\n",
       "      <td>Direct Traffic</td>\n",
       "      <td>1</td>\n",
       "      <td>2.0</td>\n",
       "      <td>1532</td>\n",
       "      <td>2.0</td>\n",
       "      <td>Email Opened</td>\n",
       "      <td>Business Administration</td>\n",
       "      <td>Student</td>\n",
       "      <td>0</td>\n",
       "    </tr>\n",
       "    <tr>\n",
       "      <th>660719</th>\n",
       "      <td>Landing Page Submission</td>\n",
       "      <td>Direct Traffic</td>\n",
       "      <td>0</td>\n",
       "      <td>1.0</td>\n",
       "      <td>305</td>\n",
       "      <td>1.0</td>\n",
       "      <td>Others</td>\n",
       "      <td>Others</td>\n",
       "      <td>Unemployed</td>\n",
       "      <td>0</td>\n",
       "    </tr>\n",
       "    <tr>\n",
       "      <th>660681</th>\n",
       "      <td>Landing Page Submission</td>\n",
       "      <td>Google</td>\n",
       "      <td>1</td>\n",
       "      <td>2.0</td>\n",
       "      <td>1428</td>\n",
       "      <td>1.0</td>\n",
       "      <td>Converted to Lead</td>\n",
       "      <td>Finance Management</td>\n",
       "      <td>Unemployed</td>\n",
       "      <td>0</td>\n",
       "    </tr>\n",
       "    <tr>\n",
       "      <th>660680</th>\n",
       "      <td>API</td>\n",
       "      <td>Olark Chat</td>\n",
       "      <td>0</td>\n",
       "      <td>0.0</td>\n",
       "      <td>0</td>\n",
       "      <td>0.0</td>\n",
       "      <td>Olark Chat Conversation</td>\n",
       "      <td>Finance Management</td>\n",
       "      <td>Unemployed</td>\n",
       "      <td>0</td>\n",
       "    </tr>\n",
       "  </tbody>\n",
       "</table>\n",
       "</div>"
      ],
      "text/plain": [
       "                         Lead Origin     Lead Source  Converted  TotalVisits  \\\n",
       "Lead Number                                                                    \n",
       "660737                           API      Olark Chat          0          0.0   \n",
       "660727       Landing Page Submission  Direct Traffic          1          2.0   \n",
       "660719       Landing Page Submission  Direct Traffic          0          1.0   \n",
       "660681       Landing Page Submission          Google          1          2.0   \n",
       "660680                           API      Olark Chat          0          0.0   \n",
       "\n",
       "             Total Time Spent on Website  Page Views Per Visit  \\\n",
       "Lead Number                                                      \n",
       "660737                                 0                   0.0   \n",
       "660727                              1532                   2.0   \n",
       "660719                               305                   1.0   \n",
       "660681                              1428                   1.0   \n",
       "660680                                 0                   0.0   \n",
       "\n",
       "                       Last Activity           Specialization  \\\n",
       "Lead Number                                                     \n",
       "660737       Page Visited on Website       Finance Management   \n",
       "660727                  Email Opened  Business Administration   \n",
       "660719                        Others                   Others   \n",
       "660681             Converted to Lead       Finance Management   \n",
       "660680       Olark Chat Conversation       Finance Management   \n",
       "\n",
       "            What is your current occupation  \\\n",
       "Lead Number                                   \n",
       "660737                           Unemployed   \n",
       "660727                              Student   \n",
       "660719                           Unemployed   \n",
       "660681                           Unemployed   \n",
       "660680                           Unemployed   \n",
       "\n",
       "             A free copy of Mastering The Interview  \n",
       "Lead Number                                          \n",
       "660737                                            0  \n",
       "660727                                            0  \n",
       "660719                                            0  \n",
       "660681                                            0  \n",
       "660680                                            0  "
      ]
     },
     "execution_count": 152,
     "metadata": {},
     "output_type": "execute_result"
    }
   ],
   "source": [
    "lead_score_df.head()"
   ]
  },
  {
   "cell_type": "code",
   "execution_count": 149,
   "metadata": {},
   "outputs": [],
   "source": [
    "# Convert Yes/No to 1/0\n",
    "lead_score_df['A free copy of Mastering The Interview'] = lead_score_df['A free copy of Mastering The Interview'].apply(lambda x : 1 if x == True else 0)"
   ]
  },
  {
   "cell_type": "code",
   "execution_count": 151,
   "metadata": {},
   "outputs": [],
   "source": [
    "# Drop Last notable activity as it is mostly same as Last activity\n",
    "lead_score_df.drop('Last Notable Activity', axis=1, inplace=True)"
   ]
  },
  {
   "cell_type": "markdown",
   "metadata": {},
   "source": [
    "#### Creating dummy variales for categorical variables"
   ]
  },
  {
   "cell_type": "code",
   "execution_count": 156,
   "metadata": {},
   "outputs": [
    {
     "data": {
      "text/html": [
       "<div>\n",
       "<style scoped>\n",
       "    .dataframe tbody tr th:only-of-type {\n",
       "        vertical-align: middle;\n",
       "    }\n",
       "\n",
       "    .dataframe tbody tr th {\n",
       "        vertical-align: top;\n",
       "    }\n",
       "\n",
       "    .dataframe thead th {\n",
       "        text-align: right;\n",
       "    }\n",
       "</style>\n",
       "<table border=\"1\" class=\"dataframe\">\n",
       "  <thead>\n",
       "    <tr style=\"text-align: right;\">\n",
       "      <th></th>\n",
       "      <th>Converted</th>\n",
       "      <th>TotalVisits</th>\n",
       "      <th>Total Time Spent on Website</th>\n",
       "      <th>Page Views Per Visit</th>\n",
       "      <th>A free copy of Mastering The Interview</th>\n",
       "      <th>Lead Origin_API</th>\n",
       "      <th>Lead Origin_Landing Page Submission</th>\n",
       "      <th>Lead Origin_Lead Add Form</th>\n",
       "      <th>Lead Origin_Lead Import</th>\n",
       "      <th>Lead Origin_Quick Add Form</th>\n",
       "      <th>...</th>\n",
       "      <th>Specialization_Marketing Management</th>\n",
       "      <th>Specialization_Operations Management</th>\n",
       "      <th>Specialization_Others</th>\n",
       "      <th>Specialization_Supply Chain Management</th>\n",
       "      <th>What is your current occupation_Businessman</th>\n",
       "      <th>What is your current occupation_Housewife</th>\n",
       "      <th>What is your current occupation_Other</th>\n",
       "      <th>What is your current occupation_Student</th>\n",
       "      <th>What is your current occupation_Unemployed</th>\n",
       "      <th>What is your current occupation_Working Professional</th>\n",
       "    </tr>\n",
       "    <tr>\n",
       "      <th>Lead Number</th>\n",
       "      <th></th>\n",
       "      <th></th>\n",
       "      <th></th>\n",
       "      <th></th>\n",
       "      <th></th>\n",
       "      <th></th>\n",
       "      <th></th>\n",
       "      <th></th>\n",
       "      <th></th>\n",
       "      <th></th>\n",
       "      <th></th>\n",
       "      <th></th>\n",
       "      <th></th>\n",
       "      <th></th>\n",
       "      <th></th>\n",
       "      <th></th>\n",
       "      <th></th>\n",
       "      <th></th>\n",
       "      <th></th>\n",
       "      <th></th>\n",
       "      <th></th>\n",
       "    </tr>\n",
       "  </thead>\n",
       "  <tbody>\n",
       "    <tr>\n",
       "      <th>660737</th>\n",
       "      <td>0</td>\n",
       "      <td>0.0</td>\n",
       "      <td>0</td>\n",
       "      <td>0.0</td>\n",
       "      <td>0</td>\n",
       "      <td>1</td>\n",
       "      <td>0</td>\n",
       "      <td>0</td>\n",
       "      <td>0</td>\n",
       "      <td>0</td>\n",
       "      <td>...</td>\n",
       "      <td>0</td>\n",
       "      <td>0</td>\n",
       "      <td>0</td>\n",
       "      <td>0</td>\n",
       "      <td>0</td>\n",
       "      <td>0</td>\n",
       "      <td>0</td>\n",
       "      <td>0</td>\n",
       "      <td>1</td>\n",
       "      <td>0</td>\n",
       "    </tr>\n",
       "    <tr>\n",
       "      <th>660727</th>\n",
       "      <td>1</td>\n",
       "      <td>2.0</td>\n",
       "      <td>1532</td>\n",
       "      <td>2.0</td>\n",
       "      <td>0</td>\n",
       "      <td>0</td>\n",
       "      <td>1</td>\n",
       "      <td>0</td>\n",
       "      <td>0</td>\n",
       "      <td>0</td>\n",
       "      <td>...</td>\n",
       "      <td>0</td>\n",
       "      <td>0</td>\n",
       "      <td>0</td>\n",
       "      <td>0</td>\n",
       "      <td>0</td>\n",
       "      <td>0</td>\n",
       "      <td>0</td>\n",
       "      <td>1</td>\n",
       "      <td>0</td>\n",
       "      <td>0</td>\n",
       "    </tr>\n",
       "    <tr>\n",
       "      <th>660719</th>\n",
       "      <td>0</td>\n",
       "      <td>1.0</td>\n",
       "      <td>305</td>\n",
       "      <td>1.0</td>\n",
       "      <td>0</td>\n",
       "      <td>0</td>\n",
       "      <td>1</td>\n",
       "      <td>0</td>\n",
       "      <td>0</td>\n",
       "      <td>0</td>\n",
       "      <td>...</td>\n",
       "      <td>0</td>\n",
       "      <td>0</td>\n",
       "      <td>1</td>\n",
       "      <td>0</td>\n",
       "      <td>0</td>\n",
       "      <td>0</td>\n",
       "      <td>0</td>\n",
       "      <td>0</td>\n",
       "      <td>1</td>\n",
       "      <td>0</td>\n",
       "    </tr>\n",
       "    <tr>\n",
       "      <th>660681</th>\n",
       "      <td>1</td>\n",
       "      <td>2.0</td>\n",
       "      <td>1428</td>\n",
       "      <td>1.0</td>\n",
       "      <td>0</td>\n",
       "      <td>0</td>\n",
       "      <td>1</td>\n",
       "      <td>0</td>\n",
       "      <td>0</td>\n",
       "      <td>0</td>\n",
       "      <td>...</td>\n",
       "      <td>0</td>\n",
       "      <td>0</td>\n",
       "      <td>0</td>\n",
       "      <td>0</td>\n",
       "      <td>0</td>\n",
       "      <td>0</td>\n",
       "      <td>0</td>\n",
       "      <td>0</td>\n",
       "      <td>1</td>\n",
       "      <td>0</td>\n",
       "    </tr>\n",
       "    <tr>\n",
       "      <th>660680</th>\n",
       "      <td>0</td>\n",
       "      <td>0.0</td>\n",
       "      <td>0</td>\n",
       "      <td>0.0</td>\n",
       "      <td>0</td>\n",
       "      <td>1</td>\n",
       "      <td>0</td>\n",
       "      <td>0</td>\n",
       "      <td>0</td>\n",
       "      <td>0</td>\n",
       "      <td>...</td>\n",
       "      <td>0</td>\n",
       "      <td>0</td>\n",
       "      <td>0</td>\n",
       "      <td>0</td>\n",
       "      <td>0</td>\n",
       "      <td>0</td>\n",
       "      <td>0</td>\n",
       "      <td>0</td>\n",
       "      <td>1</td>\n",
       "      <td>0</td>\n",
       "    </tr>\n",
       "  </tbody>\n",
       "</table>\n",
       "<p>5 rows × 37 columns</p>\n",
       "</div>"
      ],
      "text/plain": [
       "             Converted  TotalVisits  Total Time Spent on Website  \\\n",
       "Lead Number                                                        \n",
       "660737               0          0.0                            0   \n",
       "660727               1          2.0                         1532   \n",
       "660719               0          1.0                          305   \n",
       "660681               1          2.0                         1428   \n",
       "660680               0          0.0                            0   \n",
       "\n",
       "             Page Views Per Visit  A free copy of Mastering The Interview  \\\n",
       "Lead Number                                                                 \n",
       "660737                        0.0                                       0   \n",
       "660727                        2.0                                       0   \n",
       "660719                        1.0                                       0   \n",
       "660681                        1.0                                       0   \n",
       "660680                        0.0                                       0   \n",
       "\n",
       "             Lead Origin_API  Lead Origin_Landing Page Submission  \\\n",
       "Lead Number                                                         \n",
       "660737                     1                                    0   \n",
       "660727                     0                                    1   \n",
       "660719                     0                                    1   \n",
       "660681                     0                                    1   \n",
       "660680                     1                                    0   \n",
       "\n",
       "             Lead Origin_Lead Add Form  Lead Origin_Lead Import  \\\n",
       "Lead Number                                                       \n",
       "660737                               0                        0   \n",
       "660727                               0                        0   \n",
       "660719                               0                        0   \n",
       "660681                               0                        0   \n",
       "660680                               0                        0   \n",
       "\n",
       "             Lead Origin_Quick Add Form  \\\n",
       "Lead Number                               \n",
       "660737                                0   \n",
       "660727                                0   \n",
       "660719                                0   \n",
       "660681                                0   \n",
       "660680                                0   \n",
       "\n",
       "                                     ...                           \\\n",
       "Lead Number                          ...                            \n",
       "660737                               ...                            \n",
       "660727                               ...                            \n",
       "660719                               ...                            \n",
       "660681                               ...                            \n",
       "660680                               ...                            \n",
       "\n",
       "             Specialization_Marketing Management  \\\n",
       "Lead Number                                        \n",
       "660737                                         0   \n",
       "660727                                         0   \n",
       "660719                                         0   \n",
       "660681                                         0   \n",
       "660680                                         0   \n",
       "\n",
       "             Specialization_Operations Management  Specialization_Others  \\\n",
       "Lead Number                                                                \n",
       "660737                                          0                      0   \n",
       "660727                                          0                      0   \n",
       "660719                                          0                      1   \n",
       "660681                                          0                      0   \n",
       "660680                                          0                      0   \n",
       "\n",
       "             Specialization_Supply Chain Management  \\\n",
       "Lead Number                                           \n",
       "660737                                            0   \n",
       "660727                                            0   \n",
       "660719                                            0   \n",
       "660681                                            0   \n",
       "660680                                            0   \n",
       "\n",
       "             What is your current occupation_Businessman  \\\n",
       "Lead Number                                                \n",
       "660737                                                 0   \n",
       "660727                                                 0   \n",
       "660719                                                 0   \n",
       "660681                                                 0   \n",
       "660680                                                 0   \n",
       "\n",
       "             What is your current occupation_Housewife  \\\n",
       "Lead Number                                              \n",
       "660737                                               0   \n",
       "660727                                               0   \n",
       "660719                                               0   \n",
       "660681                                               0   \n",
       "660680                                               0   \n",
       "\n",
       "             What is your current occupation_Other  \\\n",
       "Lead Number                                          \n",
       "660737                                           0   \n",
       "660727                                           0   \n",
       "660719                                           0   \n",
       "660681                                           0   \n",
       "660680                                           0   \n",
       "\n",
       "             What is your current occupation_Student  \\\n",
       "Lead Number                                            \n",
       "660737                                             0   \n",
       "660727                                             1   \n",
       "660719                                             0   \n",
       "660681                                             0   \n",
       "660680                                             0   \n",
       "\n",
       "             What is your current occupation_Unemployed  \\\n",
       "Lead Number                                               \n",
       "660737                                                1   \n",
       "660727                                                0   \n",
       "660719                                                1   \n",
       "660681                                                1   \n",
       "660680                                                1   \n",
       "\n",
       "             What is your current occupation_Working Professional  \n",
       "Lead Number                                                        \n",
       "660737                                                       0     \n",
       "660727                                                       0     \n",
       "660719                                                       0     \n",
       "660681                                                       0     \n",
       "660680                                                       0     \n",
       "\n",
       "[5 rows x 37 columns]"
      ]
     },
     "execution_count": 156,
     "metadata": {},
     "output_type": "execute_result"
    }
   ],
   "source": [
    "dummy_df = pd.get_dummies(lead_score_df)\n",
    "dummy_df.head()"
   ]
  },
  {
   "cell_type": "code",
   "execution_count": 155,
   "metadata": {},
   "outputs": [],
   "source": [
    "dummy_df=dummy_df.drop(['A free copy of Mastering The Interview','Lead Origin_Lead Add Form','Lead Source_Organic Search','Last Activity_Email Opened','Specialization_Operations Management'],axis=1)"
   ]
  },
  {
   "cell_type": "code",
   "execution_count": 157,
   "metadata": {},
   "outputs": [
    {
     "data": {
      "text/plain": [
       "(9239, 37)"
      ]
     },
     "execution_count": 157,
     "metadata": {},
     "output_type": "execute_result"
    }
   ],
   "source": [
    "dummy_df.shape"
   ]
  },
  {
   "cell_type": "code",
   "execution_count": null,
   "metadata": {},
   "outputs": [],
   "source": []
  }
 ],
 "metadata": {
  "kernelspec": {
   "display_name": "Python 3",
   "language": "python",
   "name": "python3"
  },
  "language_info": {
   "codemirror_mode": {
    "name": "ipython",
    "version": 3
   },
   "file_extension": ".py",
   "mimetype": "text/x-python",
   "name": "python",
   "nbconvert_exporter": "python",
   "pygments_lexer": "ipython3",
   "version": "3.6.5"
  }
 },
 "nbformat": 4,
 "nbformat_minor": 2
}
